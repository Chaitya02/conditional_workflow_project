{
 "cells": [
  {
   "cell_type": "markdown",
   "id": "4bbe37a7",
   "metadata": {},
   "source": [
    "### Imports"
   ]
  },
  {
   "cell_type": "code",
   "execution_count": 1,
   "id": "2bc880b8",
   "metadata": {},
   "outputs": [],
   "source": [
    "from langgraph.graph import StateGraph, START, END\n",
    "from langchain_google_genai import ChatGoogleGenerativeAI\n",
    "from pydantic import BaseModel, Field\n",
    "from typing import TypedDict, Literal\n",
    "from dotenv import load_dotenv"
   ]
  },
  {
   "cell_type": "code",
   "execution_count": 2,
   "id": "77632309",
   "metadata": {},
   "outputs": [
    {
     "data": {
      "text/plain": [
       "True"
      ]
     },
     "execution_count": 2,
     "metadata": {},
     "output_type": "execute_result"
    }
   ],
   "source": [
    "load_dotenv()"
   ]
  },
  {
   "cell_type": "markdown",
   "id": "84a7e4a7",
   "metadata": {},
   "source": [
    "### LLM"
   ]
  },
  {
   "cell_type": "code",
   "execution_count": 3,
   "id": "3a0b83a4",
   "metadata": {},
   "outputs": [],
   "source": [
    "model = ChatGoogleGenerativeAI(model=\"gemini-2.5-flash\")"
   ]
  },
  {
   "cell_type": "code",
   "execution_count": 4,
   "id": "79df8a29",
   "metadata": {},
   "outputs": [],
   "source": [
    "class SentimentSchema(BaseModel):\n",
    "    sentiment: Literal[\"positive\", \"negative\"] = Field(\n",
    "        description=\"Sentiment of the review\"\n",
    "    )"
   ]
  },
  {
   "cell_type": "code",
   "execution_count": 5,
   "id": "118c1758",
   "metadata": {},
   "outputs": [],
   "source": [
    "structured_model = model.with_structured_output(SentimentSchema)"
   ]
  },
  {
   "cell_type": "code",
   "execution_count": 6,
   "id": "0f8bbd6c",
   "metadata": {},
   "outputs": [
    {
     "data": {
      "text/plain": [
       "SentimentSchema(sentiment='positive')"
      ]
     },
     "execution_count": 6,
     "metadata": {},
     "output_type": "execute_result"
    }
   ],
   "source": [
    "prompt = \"What is the sentiment of this review - The software is great, I love it!\"\n",
    "structured_model.invoke(prompt)"
   ]
  },
  {
   "cell_type": "code",
   "execution_count": 7,
   "id": "3f15cb5f",
   "metadata": {},
   "outputs": [],
   "source": [
    "class diagnosisSchema(BaseModel):\n",
    "    issue_type: str = Field(description=\"Type of issue\")\n",
    "    tone: str = Field(description=\"Tone of the reply\")\n",
    "    urgency: str = Field(description=\"Urgency of the issue\")"
   ]
  },
  {
   "cell_type": "code",
   "execution_count": 8,
   "id": "0d4791d4",
   "metadata": {},
   "outputs": [],
   "source": [
    "diagnosis_model = model.with_structured_output(diagnosisSchema)"
   ]
  },
  {
   "cell_type": "code",
   "execution_count": 9,
   "id": "e570e0c0",
   "metadata": {},
   "outputs": [
    {
     "data": {
      "text/plain": [
       "diagnosisSchema(issue_type='Performance Issue', tone='Neutral', urgency='Medium')"
      ]
     },
     "execution_count": 9,
     "metadata": {},
     "output_type": "execute_result"
    }
   ],
   "source": [
    "prompt = \"Diagnose this negative review based on the issue type, tone and urgency - The software hangs a bit.\"\n",
    "diagnosis_model.invoke(prompt)"
   ]
  },
  {
   "cell_type": "markdown",
   "id": "fbb71818",
   "metadata": {},
   "source": [
    "### State"
   ]
  },
  {
   "cell_type": "code",
   "execution_count": 10,
   "id": "f23ec414",
   "metadata": {},
   "outputs": [],
   "source": [
    "class ReviewReplyState(TypedDict):\n",
    "    review: str\n",
    "    sentiment: Literal[\"positive\", \"negative\"]\n",
    "    diagnosis: dict\n",
    "    reply: str"
   ]
  },
  {
   "cell_type": "markdown",
   "id": "0dc572cc",
   "metadata": {},
   "source": [
    "### Node Functions"
   ]
  },
  {
   "cell_type": "code",
   "execution_count": 11,
   "id": "0246905d",
   "metadata": {},
   "outputs": [],
   "source": [
    "def get_sentiment(state: ReviewReplyState) -> ReviewReplyState:\n",
    "    prompt = f\"What is the sentiment of this review - {state['review']}\"\n",
    "    return {\n",
    "        \"sentiment\": structured_model.invoke(prompt).sentiment\n",
    "    }"
   ]
  },
  {
   "cell_type": "code",
   "execution_count": 12,
   "id": "f0aaf0f6",
   "metadata": {},
   "outputs": [],
   "source": [
    "def positive_reply(state: ReviewReplyState) -> ReviewReplyState:\n",
    "    prompt = f\"Reply to this positive review with a warm thank you and kindly ask the user to give feedback on our website - {state['review']}\"\n",
    "    return {\n",
    "        \"reply\": model.invoke(prompt).content\n",
    "    }"
   ]
  },
  {
   "cell_type": "code",
   "execution_count": 13,
   "id": "550eab38",
   "metadata": {},
   "outputs": [],
   "source": [
    "def run_diagnosis(state: ReviewReplyState) -> ReviewReplyState:\n",
    "    prompt = f\"Diagnose this negative review based on the issue type, tone and urgency - {state['review']}\"\n",
    "    return {\n",
    "        \"diagnosis\": diagnosis_model.invoke(prompt).model_dump()\n",
    "    }"
   ]
  },
  {
   "cell_type": "code",
   "execution_count": 14,
   "id": "5d4415f8",
   "metadata": {},
   "outputs": [],
   "source": [
    "def negative_reply(state: ReviewReplyState) -> ReviewReplyState:\n",
    "    prompt = f\"You are a support assistant. The user had a {state['diagnosis']['issue_type']} issue, sounded {state['diagnosis']['tone']} and marked urgency as {state['diagnosis']['urgency']}. Write an empathetic, helpful resolution reply for the negative review - {state[\"review\"]}.\"\n",
    "    return {\n",
    "        \"reply\": model.invoke(prompt).content\n",
    "    }"
   ]
  },
  {
   "cell_type": "code",
   "execution_count": 15,
   "id": "c0919222",
   "metadata": {},
   "outputs": [],
   "source": [
    "def check_sentiment(state: ReviewReplyState) -> Literal[\"positive_reply\", \"run_diagnosis\"]:\n",
    "    if state[\"sentiment\"] == \"positive\":\n",
    "        return \"positive_reply\"\n",
    "    else:\n",
    "        return \"run_diagnosis\""
   ]
  },
  {
   "cell_type": "markdown",
   "id": "d7298e87",
   "metadata": {},
   "source": [
    "### Define Graph"
   ]
  },
  {
   "cell_type": "code",
   "execution_count": 16,
   "id": "e321178c",
   "metadata": {},
   "outputs": [],
   "source": [
    "graph = StateGraph(ReviewReplyState)"
   ]
  },
  {
   "cell_type": "markdown",
   "id": "48bc0c4b",
   "metadata": {},
   "source": [
    "### Add Nodes"
   ]
  },
  {
   "cell_type": "code",
   "execution_count": 17,
   "id": "4340dadd",
   "metadata": {},
   "outputs": [
    {
     "data": {
      "text/plain": [
       "<langgraph.graph.state.StateGraph at 0x10e7a8440>"
      ]
     },
     "execution_count": 17,
     "metadata": {},
     "output_type": "execute_result"
    }
   ],
   "source": [
    "graph.add_node(\"get_sentiment\", get_sentiment)\n",
    "graph.add_node(\"positive_reply\", positive_reply)\n",
    "graph.add_node(\"run_diagnosis\", run_diagnosis)\n",
    "graph.add_node(\"negative_reply\", negative_reply)"
   ]
  },
  {
   "cell_type": "markdown",
   "id": "7c346b42",
   "metadata": {},
   "source": [
    "### Add Edges"
   ]
  },
  {
   "cell_type": "code",
   "execution_count": 18,
   "id": "bfaf457f",
   "metadata": {},
   "outputs": [
    {
     "data": {
      "text/plain": [
       "<langgraph.graph.state.StateGraph at 0x10e7a8440>"
      ]
     },
     "execution_count": 18,
     "metadata": {},
     "output_type": "execute_result"
    }
   ],
   "source": [
    "graph.add_edge(START, \"get_sentiment\")\n",
    "graph.add_conditional_edges(\"get_sentiment\", check_sentiment)\n",
    "graph.add_edge(\"run_diagnosis\", \"negative_reply\")\n",
    "graph.add_edge(\"positive_reply\", END)\n",
    "graph.add_edge(\"negative_reply\", END)"
   ]
  },
  {
   "cell_type": "markdown",
   "id": "f8d61d00",
   "metadata": {},
   "source": [
    "### Compile Graph"
   ]
  },
  {
   "cell_type": "code",
   "execution_count": 19,
   "id": "6bc9398c",
   "metadata": {},
   "outputs": [],
   "source": [
    "workflow = graph.compile()"
   ]
  },
  {
   "cell_type": "code",
   "execution_count": 20,
   "id": "fb8acef5",
   "metadata": {},
   "outputs": [
    {
     "data": {
      "text/plain": [
       "{'review': 'The software is great, I love it!',\n",
       " 'sentiment': 'positive',\n",
       " 'reply': \"That's fantastic to hear! We're so thrilled you're loving the software.\\n\\nWe're always looking for ways to improve, and as you're clearly enjoying the software, we'd be incredibly grateful if you'd be willing to share any feedback you have about your experience on our website. Your insights help us make everything even better!\"}"
      ]
     },
     "execution_count": 20,
     "metadata": {},
     "output_type": "execute_result"
    }
   ],
   "source": [
    "workflow.invoke({\n",
    "    \"review\": \"The software is great, I love it!\"\n",
    "})"
   ]
  },
  {
   "cell_type": "code",
   "execution_count": 21,
   "id": "8b64f79b",
   "metadata": {},
   "outputs": [
    {
     "data": {
      "text/plain": [
       "{'review': 'The software is not working as expected, I am facing issues with the installation.',\n",
       " 'sentiment': 'negative',\n",
       " 'diagnosis': {'issue_type': 'Installation issue',\n",
       "  'tone': 'Concerned',\n",
       "  'urgency': 'High'},\n",
       " 'reply': 'Subject: We\\'re So Sorry You\\'re Facing Installation Issues - Let\\'s Get This Fixed Immediately!\\n\\nDear Valued User,\\n\\nI am so incredibly sorry to hear that you\\'re facing difficulties with the installation and that our software isn\\'t working as expected. I completely understand how frustrating and concerning it must be to encounter issues right when you\\'re trying to get started, especially when you\\'re eager to use the software. This is definitely not the experience we want you to have, and we take your feedback very seriously.\\n\\nPlease know that your satisfaction is our top priority, and we are absolutely committed to getting this resolved for you immediately. We understand you marked this with high urgency, and we want to assure you we\\'re ready to help.\\n\\nTo get you up and running smoothly as quickly as possible, we would love to connect with you directly. Our dedicated technical support team is standing by to provide personalized, step-by-step assistance.\\n\\n**Here\\'s how we can help you right now:**\\n\\n1.  **Direct Call:** Please call us immediately at **[Your Support Phone Number Here]**. Mention this review, and we\\'ll fast-track your call to a senior support specialist who can walk you through the installation process or troubleshoot any specific errors you\\'re encountering.\\n2.  **Live Chat:** Visit our website at **[Your Website/Support Portal Link Here]** and click on the \"Live Chat\" option. Our agents are available [mention hours, e.g., 24/7 or Mon-Fri, 9 AM - 5 PM] to assist you in real-time.\\n3.  **Schedule a Session:** If you prefer, simply reply to this message with your preferred contact number and a good time to reach you, and we will have a support specialist call you directly to guide you through the installation process.\\n\\nWe want to understand the exact issues you\\'re facing – whether it\\'s an error message, a specific step where you\\'re stuck, or anything else – so we can provide the most effective solution.\\n\\nThank you for bringing this to our attention. We are truly sorry for the inconvenience and frustration this has caused. We are confident we can resolve this for you quickly and get you enjoying our software as it\\'s meant to be.\\n\\nWe look forward to helping you!\\n\\nSincerely,\\n\\n[Your Name/Support Team Name]\\nSupport Assistant\\n[Your Company Name]'}"
      ]
     },
     "execution_count": 21,
     "metadata": {},
     "output_type": "execute_result"
    }
   ],
   "source": [
    "workflow.invoke({\n",
    "    \"review\": \"The software is not working as expected, I am facing issues with the installation.\"\n",
    "})"
   ]
  },
  {
   "cell_type": "code",
   "execution_count": 23,
   "id": "82852d0b",
   "metadata": {},
   "outputs": [
    {
     "data": {
      "image/png": "[encoded data removed]",
      "text/plain": [
       "<IPython.core.display.Image object>"
      ]
     },
     "execution_count": 23,
     "metadata": {},
     "output_type": "execute_result"
    }
   ],
   "source": [
    "from IPython.display import Image\n",
    "Image(workflow.get_graph().draw_mermaid_png())"
   ]
  },
  {
   "cell_type": "code",
   "execution_count": null,
   "id": "8f6bb2cd",
   "metadata": {},
   "outputs": [],
   "source": []
  }
 ],
 "metadata": {
  "kernelspec": {
   "display_name": ".venv",
   "language": "python",
   "name": "python3"
  },
  "language_info": {
   "codemirror_mode": {
    "name": "ipython",
    "version": 3
   },
   "file_extension": ".py",
   "mimetype": "text/x-python",
   "name": "python",
   "nbconvert_exporter": "python",
   "pygments_lexer": "ipython3",
   "version": "3.13.5"
  }
 },
 "nbformat": 4,
 "nbformat_minor": 5
}
